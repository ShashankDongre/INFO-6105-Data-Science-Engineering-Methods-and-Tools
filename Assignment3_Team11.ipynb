{
 "cells": [
  {
   "cell_type": "markdown",
   "id": "b6b79c4c",
   "metadata": {},
   "source": [
    "<div style=\"text-align: right\">Assignment 3, Team group: 11</div>\n",
    "<div style=\"text-align: right\">Members: Rahul Gollapalli Ranganatha (002767096)</div>\n",
    "<div style=\"text-align: right\">Shashank Dongre (002747740)</div>"
   ]
  },
  {
   "cell_type": "markdown",
   "id": "7b09a546",
   "metadata": {},
   "source": [
    "## Teamwork Homework 1\n",
    "### Please write iterative implementation of Fibonacci numbers."
   ]
  },
  {
   "cell_type": "code",
   "execution_count": 44,
   "id": "92c8d22a",
   "metadata": {},
   "outputs": [],
   "source": [
    "#Using Iteration: while (prints fibonacci numbers in the series)\n",
    "def fib_itr(number):\n",
    "   count = 0\n",
    "   x = 0\n",
    "   y = 1\n",
    "   z = 0\n",
    "   while count <= number:\n",
    "      print(x)\n",
    "      z = x + y\n",
    "      x = y\n",
    "      y = z\n",
    "      count = count + 1"
   ]
  },
  {
   "cell_type": "code",
   "execution_count": 76,
   "id": "19f88411",
   "metadata": {},
   "outputs": [
    {
     "name": "stdout",
     "output_type": "stream",
     "text": [
      "0\n",
      "1\n",
      "1\n",
      "2\n",
      "3\n",
      "5\n",
      "8\n",
      "13\n",
      "21\n",
      "34\n",
      "55\n",
      "89\n",
      "144\n",
      "233\n",
      "377\n",
      "610\n",
      "Wall time: 1.01 ms\n"
     ]
    }
   ],
   "source": [
    "%time fib_itr(15)"
   ]
  },
  {
   "cell_type": "markdown",
   "id": "3936425a",
   "metadata": {},
   "source": [
    "## Teamwork Homework 1\n",
    "### Please write Recursion implementation of Fibonacci numbers."
   ]
  },
  {
   "cell_type": "code",
   "execution_count": 82,
   "id": "cf419987",
   "metadata": {},
   "outputs": [],
   "source": [
    "#Using Recursion to print numbers in fibonacci series--\n",
    "\n",
    "def fib_rec(n):\n",
    "    if n in [0,1]:\n",
    "        return n\n",
    "    return fib_rec(n-1) + fib_rec(n-2)\n",
    "\n",
    "#Using Recursion to print numbers in fibonacci series-- Using Memorization concept with the help of cache memory (to reduce time complexity by re calculating)\n",
    "\n",
    "cache = {0: 0, 1: 1}\n",
    "def fib_recmem(n):\n",
    "    if n in cache:\n",
    "        return cache[n]\n",
    "    cache[n] = fib_recmem(n-1) + fib_recmem(n-2)\n",
    "    return cache[n]"
   ]
  },
  {
   "cell_type": "code",
   "execution_count": 83,
   "id": "099a86dd",
   "metadata": {},
   "outputs": [
    {
     "name": "stdout",
     "output_type": "stream",
     "text": [
      "Wall time: 984 µs\n"
     ]
    },
    {
     "data": {
      "text/plain": [
       "[0, 1, 1, 2, 3, 5, 8, 13, 21, 34, 55, 89, 144, 233, 377]"
      ]
     },
     "execution_count": 83,
     "metadata": {},
     "output_type": "execute_result"
    }
   ],
   "source": [
    "%time [fib_rec(n) for n in range(15)]"
   ]
  },
  {
   "cell_type": "code",
   "execution_count": 75,
   "id": "ee289537",
   "metadata": {},
   "outputs": [
    {
     "name": "stdout",
     "output_type": "stream",
     "text": [
      "Wall time: 0 ns\n"
     ]
    },
    {
     "data": {
      "text/plain": [
       "[0, 1, 1, 2, 3, 5, 8, 13, 21, 34, 55, 89, 144, 233, 377]"
      ]
     },
     "execution_count": 75,
     "metadata": {},
     "output_type": "execute_result"
    }
   ],
   "source": [
    "%time [fib_recmem(n) for n in range(15)]"
   ]
  },
  {
   "cell_type": "markdown",
   "id": "1dacf3da",
   "metadata": {},
   "source": [
    "## Teamwork Homework 1\n",
    "### Please write Generator implementation of Fibonacci numbers."
   ]
  },
  {
   "cell_type": "code",
   "execution_count": 48,
   "id": "b40eec58",
   "metadata": {},
   "outputs": [
    {
     "name": "stdout",
     "output_type": "stream",
     "text": [
      "[0, 1, 1, 2, 3, 5, 8, 13, 21, 34, 55, 89, 144, 233, 377, 610, 987, 1597, 2584, 4181, 6765, 10946, 17711, 28657, 46368, 75025, 121393, 196418, 317811, 514229, 832040, 1346269, 2178309, 3524578, 5702887, 9227465, 14930352, 24157817, 39088169, 63245986, 102334155, 165580141, 267914296, 433494437, 701408733, 1134903170, 1836311903, 2971215073, 4807526976, 7778742049, 12586269025, 20365011074, 32951280099, 53316291173, 86267571272, 139583862445, 225851433717, 365435296162, 591286729879, 956722026041, 1548008755920, 2504730781961, 4052739537881, 6557470319842, 10610209857723, 17167680177565, 27777890035288, 44945570212853, 72723460248141, 117669030460994, 190392490709135, 308061521170129, 498454011879264, 806515533049393, 1304969544928657, 2111485077978050, 3416454622906707, 5527939700884757, 8944394323791464, 14472334024676221, 23416728348467685, 37889062373143906, 61305790721611591, 99194853094755497, 160500643816367088, 259695496911122585, 420196140727489673, 679891637638612258, 1100087778366101931, 1779979416004714189, 2880067194370816120, 4660046610375530309, 7540113804746346429, 12200160415121876738, 19740274219868223167, 31940434634990099905, 51680708854858323072, 83621143489848422977, 135301852344706746049, 218922995834555169026]\n"
     ]
    }
   ],
   "source": [
    "#Using Generator to print numbers in fibonacci series\n",
    "def fib_generator(n):\n",
    "    a, b = 0, 1\n",
    "\n",
    "    for i in range(n):\n",
    "        yield a\n",
    "        a, b = b, a + b\n",
    "        \n",
    "print(list(fib_generator(100))) "
   ]
  },
  {
   "cell_type": "markdown",
   "id": "f9f9f11a",
   "metadata": {},
   "source": [
    "## Teamwork Homework 2\n",
    "### Part1: Determine if number is prime or not"
   ]
  },
  {
   "cell_type": "code",
   "execution_count": 49,
   "id": "7bdd2dc5",
   "metadata": {},
   "outputs": [],
   "source": [
    "# Code to find if number is prime or not\n",
    "def is_prime(n):\n",
    "    if n < 2:\n",
    "        return False\n",
    "\n",
    "    for i in range(2, int(n ** 0.5) + 1):\n",
    "        if n % i == 0:\n",
    "            return False\n",
    "\n",
    "    return True"
   ]
  },
  {
   "cell_type": "markdown",
   "id": "77e5d568",
   "metadata": {},
   "source": [
    "## Teamwork Homework 2\n",
    "### Part 2: Determine if number is prime or not in Dua Lipa Style of coding"
   ]
  },
  {
   "cell_type": "code",
   "execution_count": 50,
   "id": "0c75a42d",
   "metadata": {},
   "outputs": [],
   "source": [
    "# Code to find if number is prime or not in Dua Lipa Style\n",
    "def is_primedua(n):\n",
    "    return n > 1 and all(n % i for i in range(2, int(n ** 0.5) + 1))"
   ]
  },
  {
   "cell_type": "code",
   "execution_count": 54,
   "id": "1b298473",
   "metadata": {},
   "outputs": [
    {
     "name": "stdout",
     "output_type": "stream",
     "text": [
      "Wall time: 0 ns\n"
     ]
    },
    {
     "data": {
      "text/plain": [
       "True"
      ]
     },
     "execution_count": 54,
     "metadata": {},
     "output_type": "execute_result"
    }
   ],
   "source": [
    "%time is_prime(193)"
   ]
  },
  {
   "cell_type": "code",
   "execution_count": 53,
   "id": "2b91a005",
   "metadata": {},
   "outputs": [
    {
     "name": "stdout",
     "output_type": "stream",
     "text": [
      "Wall time: 0 ns\n"
     ]
    },
    {
     "data": {
      "text/plain": [
       "True"
      ]
     },
     "execution_count": 53,
     "metadata": {},
     "output_type": "execute_result"
    }
   ],
   "source": [
    "%time is_primedua(197)"
   ]
  },
  {
   "cell_type": "code",
   "execution_count": null,
   "id": "d4fa6f88",
   "metadata": {},
   "outputs": [],
   "source": []
  }
 ],
 "metadata": {
  "kernelspec": {
   "display_name": "Python 3 (ipykernel)",
   "language": "python",
   "name": "python3"
  },
  "language_info": {
   "codemirror_mode": {
    "name": "ipython",
    "version": 3
   },
   "file_extension": ".py",
   "mimetype": "text/x-python",
   "name": "python",
   "nbconvert_exporter": "python",
   "pygments_lexer": "ipython3",
   "version": "3.9.13"
  }
 },
 "nbformat": 4,
 "nbformat_minor": 5
}
