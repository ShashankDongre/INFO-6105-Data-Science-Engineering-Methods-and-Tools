{
 "cells": [
  {
   "cell_type": "markdown",
   "metadata": {},
   "source": [
    "Rewirte the p function so that it is now polymorphic with respect to the number of arguments. The last argument is always either a set or a probability distribution dictionary. The other arguments are eithers sets or predicate functions.\n",
    "\n",
    "The p function be able to run like that: \n",
    "\n",
    "p(a_1, a_2, a_3, ..., MM)\n",
    "\n",
    "where the probability is p (a_1| a_2, a_3, ...) operating on either the set or the dictionary MM.\n",
    "\n",
    "This is a group assignment and each group submit one jupyter notebook file. Name your file as Assignment 7_GroupNum."
   ]
  },
  {
   "attachments": {},
   "cell_type": "markdown",
   "metadata": {},
   "source": [
    "****Assignment requirement:****   \n",
    "Below is the original p function.\n",
    "```python\n",
    "def p(event, space): \n",
    "    \"\"\"The probability of an event, given a sample space of equiprobable outcomes. \n",
    "    event: a collection of outcomes, or a predicate that is true of outcomes in the event. \n",
    "    space: a set of outcomes or a probability distribution of {outcome: frequency} pairs.\"\"\"\n",
    "    # branch on the type of the first argument\n",
    "    if is_predicate(event):\n",
    "        # transform the mapping (untangible) 'event' into the collection (tangible) 'event'\n",
    "        event = such_that(event, space)\n",
    "        \n",
    "    if isinstance(space, ProbDist):\n",
    "        # if space is a dictionary of distinct probabilities, where each item does not count as the same amount\n",
    "        return sum(space[o] for o in space if o in event)\n",
    "    else:\n",
    "        # space is not a dictionary but a collection, let's fall back to our original division\n",
    "        return Fraction(len(event & space), len(space))\n",
    "\n",
    "is_predicate = callable\n",
    "\n",
    "def such_that(predicate, space): \n",
    "    \"\"\"The outcomes in the sample space for which the predicate is true.\n",
    "    If space is a set, return a subset {outcome,...} with outcomes where predicate(element) is true;\n",
    "    if space is a ProbDist, return a ProbDist {outcome: frequency,...} with outcomes where predicate(element) is true.\"\"\"\n",
    "    if isinstance(space, ProbDist):\n",
    "        return ProbDist({o:space[o] for o in space if predicate(o)})\n",
    "    else:\n",
    "        return {o for o in space if predicate(o)}\n",
    "```\n",
    "\n",
    "And now p has to be upgraded to p(a_1, a_2, a_3, ..., MM), where a_1,_a_2,a_3 are either sets or predicate functions."
   ]
  },
  {
   "cell_type": "code",
   "execution_count": 33,
   "metadata": {},
   "outputs": [],
   "source": [
    "class ProbDist(dict):\n",
    "    \"\"\"A Probability Distribution; an {outcome: probability} mapping.\"\"\"\n",
    "    def __init__(self, mapping=(), **kwargs):\n",
    "        self.update(mapping, **kwargs)\n",
    "        # Make probabilities sum to 1.0; assert no negative probabilities\n",
    "        total = sum(self.values())\n",
    "        for outcome in self:\n",
    "            self[outcome] = self[outcome] / total\n",
    "            assert self[outcome] >= 0\n",
    "            "
   ]
  },
  {
   "cell_type": "code",
   "execution_count": 42,
   "metadata": {},
   "outputs": [],
   "source": [
    "\n",
    "from fractions import Fraction\n",
    "def such_that(predicate, space): \n",
    "    \"\"\"The outcomes in the sample pace for which the predicate is true.\n",
    "    If space is a set, return a subset {outcome,...} with outcomes where predicate(element) is true;\n",
    "    if space is a ProbDist, return a ProbDist {outcome: frequency,...} with outcomes where predicate(element) is true.\"\"\"\n",
    "    if isinstance(space, ProbDist):\n",
    "        return ProbDist({o:space[o] for o in space if predicate(o)})\n",
    "    else:\n",
    "        return {o for o in space if predicate(o)}"
   ]
  },
  {
   "cell_type": "code",
   "execution_count": 51,
   "metadata": {},
   "outputs": [],
   "source": [
    "is_predicate = callable\n",
    "def p(event, *args): \n",
    "    \"\"\"The probability of an event, given a sample space \"space\" of exclusive outcomes. \n",
    "    event: a collection of outcomes, or a predicate that is true of outcomes in the event. \n",
    "    space: a set of outcomes or a probability distribution of {outcome: frequency} pairs.\"\"\"\n",
    "    ##########   Step 1: Get the space and the prior_events  #################\n",
    "    # the last entry of args is the sample space\n",
    "    space = args[-1]\n",
    "    # the rest of the entry in the args are kept and assigned to a renewed tuple to form the prior_events\n",
    "    args = tuple(args[i] for i in range(len(args)-1))\n",
    "    ##########   Step 2: Initialize prior_events as the entire sampling space   ############ \n",
    "    # For simplification, prior_events will only keep the favorable event names, not the probabilities\n",
    "    if isinstance(space, ProbDist):\n",
    "        prior_events=tuple(space.keys())\n",
    "    else:\n",
    "        prior_events=space\n",
    "    ##########   Step 3: build an event collection for the prior events   ############ \n",
    "    # prior_events will take the intersection of all the filters in args\n",
    "    # loop through args to filter the original space, in order to build the prior events space\n",
    "    for argument in args: \n",
    "        # transform any mapping (untangible) 'event' in the unnamed predicates into the collection (tangible) 'event'\n",
    "        if is_predicate(argument): \n",
    "            prior_events=[i for i in prior_events if argument(i)]\n",
    "        else:\n",
    "            prior_events=[i for i in prior_events if i in argument]\n",
    "    ##########   Step 4: if needed, make prior_events the same type of ProbDist, each outcome will retrieve its probability ##########\n",
    "    if isinstance(space, ProbDist):prior_events=such_that(lambda x:x in prior_events,space)\n",
    "    ##########   Step 5: make event the same type of prior_events, each outcome will retrieve its probability ##########\n",
    "    # branch on the type of the first argument\n",
    "    if is_predicate(event):\n",
    "        # transform the mapping (untangible) 'event' into the collection (tangible) 'event'\n",
    "        event = such_that(event, prior_events)\n",
    "    ##########   Step 6: Calculate the conditional probability ##########\n",
    "    if isinstance(prior_events, ProbDist):\n",
    "        # if space is a dictionary of distinct probabilities, where each item does not count as the same amount\n",
    "        return sum(prior_events[o] for o in prior_events if o in event)\n",
    "    else:\n",
    "        # space is not a dictionary but a collection, let's fall back to our original division\n",
    "        return Fraction(len(event & prior_events), len(prior_events))"
   ]
  },
  {
   "attachments": {},
   "cell_type": "markdown",
   "metadata": {},
   "source": [
    "Will this new p(a_1|a_2,a_3...) work? let's test!"
   ]
  },
  {
   "cell_type": "code",
   "execution_count": 52,
   "metadata": {},
   "outputs": [
    {
     "data": {
      "text/plain": [
       "{'brown': 0.3,\n",
       " 'yellow': 0.2,\n",
       " 'red': 0.2,\n",
       " 'green': 0.1,\n",
       " 'orange': 0.1,\n",
       " 'tan': 0.1}"
      ]
     },
     "execution_count": 52,
     "metadata": {},
     "output_type": "execute_result"
    }
   ],
   "source": [
    "# Representing the probability distribution of bag94 and bag96 by passing in respective distributions in the form of dictionaries of each year\n",
    "bag94 = ProbDist(brown=30, yellow=20, red=20, green=10, orange=10, tan=10)\n",
    "bag96 = ProbDist(blue = 24, green = 20, orange = 16, yellow = 14, red = 13, brown = 13)  \n",
    "bag94"
   ]
  },
  {
   "cell_type": "code",
   "execution_count": 45,
   "metadata": {},
   "outputs": [
    {
     "data": {
      "text/plain": [
       "{'brown blue': 0.07199999999999997,\n",
       " 'brown green': 0.05999999999999997,\n",
       " 'brown orange': 0.04799999999999998,\n",
       " 'brown yellow': 0.04199999999999998,\n",
       " 'brown red': 0.038999999999999986,\n",
       " 'brown brown': 0.038999999999999986,\n",
       " 'yellow blue': 0.04799999999999998,\n",
       " 'yellow green': 0.03999999999999999,\n",
       " 'yellow orange': 0.03199999999999999,\n",
       " 'yellow yellow': 0.02799999999999999,\n",
       " 'yellow red': 0.025999999999999992,\n",
       " 'yellow brown': 0.025999999999999992,\n",
       " 'red blue': 0.04799999999999998,\n",
       " 'red green': 0.03999999999999999,\n",
       " 'red orange': 0.03199999999999999,\n",
       " 'red yellow': 0.02799999999999999,\n",
       " 'red red': 0.025999999999999992,\n",
       " 'red brown': 0.025999999999999992,\n",
       " 'green blue': 0.02399999999999999,\n",
       " 'green green': 0.019999999999999993,\n",
       " 'green orange': 0.015999999999999993,\n",
       " 'green yellow': 0.013999999999999995,\n",
       " 'green red': 0.012999999999999996,\n",
       " 'green brown': 0.012999999999999996,\n",
       " 'orange blue': 0.02399999999999999,\n",
       " 'orange green': 0.019999999999999993,\n",
       " 'orange orange': 0.015999999999999993,\n",
       " 'orange yellow': 0.013999999999999995,\n",
       " 'orange red': 0.012999999999999996,\n",
       " 'orange brown': 0.012999999999999996,\n",
       " 'tan blue': 0.02399999999999999,\n",
       " 'tan green': 0.019999999999999993,\n",
       " 'tan orange': 0.015999999999999993,\n",
       " 'tan yellow': 0.013999999999999995,\n",
       " 'tan red': 0.012999999999999996,\n",
       " 'tan brown': 0.012999999999999996}"
      ]
     },
     "execution_count": 45,
     "metadata": {},
     "output_type": "execute_result"
    }
   ],
   "source": [
    "# We now define the universal sample space MM as a joint distribution of 94-96. In other words, one M&M would be picked from bag94 and one from bag96.\n",
    "# Outcome 'yellow green' means that yellow is picked from bag94 and green is picked from bag96\n",
    "# Here, we will use set comprehension \n",
    "# Here, we will get to know the universal sample space MM\n",
    "\n",
    "def joint(A, B, sep=''):\n",
    "    \"\"\"The joint distribution of two independent probability distributions. \n",
    "    Result is all entries of the form {a+sep+b: P(a)*P(b)}\"\"\"\n",
    "    return ProbDist({a + sep + b: A[a] * B[b] \n",
    "                        for a in A \n",
    "                        for b in B})\n",
    "\n",
    "MM = joint(bag94, bag96, ' ')\n",
    "MM                  #universal sample space"
   ]
  },
  {
   "cell_type": "code",
   "execution_count": 53,
   "metadata": {},
   "outputs": [
    {
     "data": {
      "text/plain": [
       "{'yellow green': 0.7407407407407408, 'green yellow': 0.25925925925925924}"
      ]
     },
     "execution_count": 53,
     "metadata": {},
     "output_type": "execute_result"
    }
   ],
   "source": [
    "# Lets take a look at one is yellow and one is green part.\n",
    "# We now define a predicate function(a function that returns true for an outcome that is in the event) named yellow_and_green which would \n",
    "# return 'yellow' in outcome and 'green' in the outcome such that(the subset of universal sample space for which the predicate(yellow_and_green) = true) \n",
    "# Here, the sample space is a Probability Distribution. So it would return a ProbDist {outcome: frequency,...} with outcomes where predicate = true.\n",
    "def yellow_and_green(outcome): return 'yellow' in outcome and 'green' in outcome\n",
    "such_that(yellow_and_green,MM) "
   ]
  },
  {
   "cell_type": "code",
   "execution_count": 54,
   "metadata": {},
   "outputs": [],
   "source": [
    "# Now to answer the question, what is the probability that the yellow M&M came from bag94? (since we don't know which came from which bag)\n",
    "# we define a predicate function yellow94 which would return the outcome that starts with 'yellow'\n",
    "\n",
    "def yellow94(outcome): return outcome.startswith('yellow')"
   ]
  },
  {
   "cell_type": "code",
   "execution_count": 55,
   "metadata": {},
   "outputs": [
    {
     "data": {
      "text/plain": [
       "1.0"
      ]
     },
     "execution_count": 55,
     "metadata": {},
     "output_type": "execute_result"
    }
   ],
   "source": [
    "# Now we implement conditional probability using the functions defined above.\n",
    "# Probability of an event (picking of a yellow M&M from bag94) based on existing knowledge of predicate(yellow94) being true in the universal sample space(MM)\n",
    "\n",
    "p(yellow94, such_that(yellow94, MM))"
   ]
  },
  {
   "cell_type": "code",
   "execution_count": 56,
   "metadata": {},
   "outputs": [
    {
     "data": {
      "text/plain": [
       "0.7407407407407408"
      ]
     },
     "execution_count": 56,
     "metadata": {},
     "output_type": "execute_result"
    }
   ],
   "source": [
    "#  Probability of an event yellow94 (picking of a yellow M&M from bag94) based on existing knowledge of picking two M&Ms yellow and green \n",
    "#  in the begining being true in the universal sample space(MM)\n",
    "\n",
    "p(yellow94,yellow_and_green, MM)"
   ]
  },
  {
   "attachments": {},
   "cell_type": "markdown",
   "metadata": {},
   "source": [
    "##### This confirms there is a 74.07% chance of the picked M&M coming from bag94. This proves that our redefined polymorphic p function is working perfect!"
   ]
  },
  {
   "attachments": {},
   "cell_type": "markdown",
   "metadata": {},
   "source": [
    "Explanation of the p-function:\n",
    "\n",
    "The original p (event, space) function takes 2 forms of \"event\": either a predicate (a callable function that examines the outcome name and returns True or False) or a collection (a set or dictionary of favorable outcomes). It also takes 2 forms of \"space\": a collection of universal sample space containing all the exclusive outcomes, either a set (when the experiment is equiprobable) or a dictionary (when the experiment is non-equiprobable, and the outcome has uneven probability distribution). \n",
    "\n",
    "\n",
    "Explanation of such_that function:\n",
    "\n",
    "The role of \"such_that\" function has 2 folds of meaning: the 1st is to turn any predicate type of \"event\" into a collection; the 2nd is to normalize the probability distribution of the outcomes in event if the samples are dictionary type.  Since such_that function normalize the probability distribution, it is also good for returning an updated prior event. The asterisked argument of a function *args (also known as positional arguments) will receive arbitrary number of unnamed arguments, which allows a flexibility of input to the function. Likewise, **kwargs (also known as keyword arguments) receives as many named arguments as possible. \n",
    "\n",
    "Consider a simple example of positional arguments or *args:\n",
    "\n",
    "def p (a, *b): \n",
    "\n",
    "    return b\n",
    "\n",
    "p (1, 2, 3, 4, 5)\t\t                    # here we pass a few integers\n",
    "\n",
    "(2,3,4,5)\t\t                            # Output returns a tuple of positional arguments with respect to b\n",
    "\n",
    "Here 1 is passed to a, and the rest of the unnamed input arguments 2,3,4,5 are received by *b and become a tuple b=(2,3,4,5)\n",
    "\n",
    "\n",
    "Now, consider a simple example of keyword arguments or *kwargs:\n",
    "\n",
    "def p (a, **b): \n",
    "\n",
    "    return b\n",
    "\n",
    "p (1, x=2, y=3, z=4, w=5)\t                # here we pass a few integers to some variables \n",
    "\n",
    "{x:2, y:3, z:4, w:5}\t\t                # Output returns a dictionary of key value pairs\n",
    "\n",
    "Here 1 is passed to a, and the rest of the named input arguments x=2, y=3, z=4, w=5 is received by **b and became a dictionary {x:2, y:3, z:4, i:5} \n",
    "\n",
    "Explanation on conditional probability:\n",
    "\n",
    "Now in this assignment, we are required p (a_1| a_2, a_3...) which means the conditional probability of a_1 given that events a_2, a_3 ... already happened. We need to take arbitrary predicates a_2, a_3 and forms a prior event space of a_1. So, we introduced a new variable named prior_events. It's an intermediate event space between universal sample space and the resultant event space. Hence, in this case we can make use of such_that function which would check if the predicate were true in the given universal sample space.\n",
    "\n",
    "\n",
    "The requirement is that the last argument in p should be the universal sampling space (DK in Danish kid example or MM in M&M example). Therefore, we shall separate the args first. \"args [-1]\" is the last entry, recognized as space. To isolate the prior events, we use \n",
    "\"args = tuple(args[i] for i in range(len(args)-1))\" is the remaining entries, should be recognized as all the prior_events. It could be either predicates (functions) or collections. We prefer turning all of them into collections and find the intersection of all of them. We then transform any mapping (untangible) 'event' in the unnamed predicates into the collection (tangible) 'event' to calculate the conditional probability. The resultant space is a dictionary of distinct probabilities, where each item does not count as the same amount, we use           sum(prior_events[o] for o in prior_events if o in event) to get the resultant space.\n"
   ]
  }
 ],
 "metadata": {
  "kernelspec": {
   "display_name": "Python 3",
   "language": "python",
   "name": "python3"
  },
  "language_info": {
   "codemirror_mode": {
    "name": "ipython",
    "version": 3
   },
   "file_extension": ".py",
   "mimetype": "text/x-python",
   "name": "python",
   "nbconvert_exporter": "python",
   "pygments_lexer": "ipython3",
   "version": "3.11.1"
  },
  "orig_nbformat": 4,
  "vscode": {
   "interpreter": {
    "hash": "cdc9f687f99267b3dab817ce7498400fadfecdd87a217ccee1971f3858352790"
   }
  }
 },
 "nbformat": 4,
 "nbformat_minor": 2
}
