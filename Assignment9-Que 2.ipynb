{
 "cells": [
  {
   "cell_type": "markdown",
   "id": "9f434128",
   "metadata": {},
   "source": [
    "# Q2. Repeat your experiment with MOM on a single-humped dataset but with Bayesian simulation using PyMC3 instead!"
   ]
  },
  {
   "cell_type": "code",
   "execution_count": 1,
   "id": "62700057",
   "metadata": {},
   "outputs": [],
   "source": [
    "%matplotlib inline\n",
    "import numpy as np\n",
    "import pandas as pd\n",
    "import matplotlib.pylab as plt\n",
    "import seaborn as sns\n",
    "sns.set_context('notebook')\n",
    "import arviz as az\n",
    "\n",
    "RANDOM_SEED = 20090425"
   ]
  },
  {
   "cell_type": "code",
   "execution_count": 2,
   "id": "108fec64",
   "metadata": {},
   "outputs": [
    {
     "data": {
      "text/html": [
       "<div>\n",
       "<style scoped>\n",
       "    .dataframe tbody tr th:only-of-type {\n",
       "        vertical-align: middle;\n",
       "    }\n",
       "\n",
       "    .dataframe tbody tr th {\n",
       "        vertical-align: top;\n",
       "    }\n",
       "\n",
       "    .dataframe thead th {\n",
       "        text-align: right;\n",
       "    }\n",
       "</style>\n",
       "<table border=\"1\" class=\"dataframe\">\n",
       "  <thead>\n",
       "    <tr style=\"text-align: right;\">\n",
       "      <th></th>\n",
       "      <th>YEAR</th>\n",
       "      <th>MAKE</th>\n",
       "      <th>MODEL</th>\n",
       "      <th>VEHICLE CLASS</th>\n",
       "      <th>ENGINE SIZE</th>\n",
       "      <th>CYLINDERS</th>\n",
       "      <th>TRANSMISSION</th>\n",
       "      <th>FUEL</th>\n",
       "      <th>FUEL CONSUMPTION</th>\n",
       "      <th>HWY (L/100 km)</th>\n",
       "      <th>COMB (L/100 km)</th>\n",
       "      <th>COMB (mpg)</th>\n",
       "      <th>EMISSIONS</th>\n",
       "    </tr>\n",
       "  </thead>\n",
       "  <tbody>\n",
       "    <tr>\n",
       "      <th>8816</th>\n",
       "      <td>2009</td>\n",
       "      <td>SATURN</td>\n",
       "      <td>AURA HYBRID</td>\n",
       "      <td>MID-SIZE</td>\n",
       "      <td>2.4</td>\n",
       "      <td>4</td>\n",
       "      <td>A4</td>\n",
       "      <td>X</td>\n",
       "      <td>7.9</td>\n",
       "      <td>5.8</td>\n",
       "      <td>6.9</td>\n",
       "      <td>41</td>\n",
       "      <td>159</td>\n",
       "    </tr>\n",
       "    <tr>\n",
       "      <th>4310</th>\n",
       "      <td>2005</td>\n",
       "      <td>JAGUAR</td>\n",
       "      <td>X-TYPE SPORTWAGON</td>\n",
       "      <td>STATION WAGON - SMALL</td>\n",
       "      <td>2.5</td>\n",
       "      <td>6</td>\n",
       "      <td>M5</td>\n",
       "      <td>Z</td>\n",
       "      <td>12.2</td>\n",
       "      <td>7.9</td>\n",
       "      <td>10.3</td>\n",
       "      <td>27</td>\n",
       "      <td>237</td>\n",
       "    </tr>\n",
       "    <tr>\n",
       "      <th>17342</th>\n",
       "      <td>2017</td>\n",
       "      <td>NISSAN</td>\n",
       "      <td>FRONTIER</td>\n",
       "      <td>PICKUP TRUCK - SMALL</td>\n",
       "      <td>4.0</td>\n",
       "      <td>6</td>\n",
       "      <td>A5</td>\n",
       "      <td>X</td>\n",
       "      <td>14.8</td>\n",
       "      <td>10.6</td>\n",
       "      <td>12.9</td>\n",
       "      <td>22</td>\n",
       "      <td>304</td>\n",
       "    </tr>\n",
       "    <tr>\n",
       "      <th>13390</th>\n",
       "      <td>2014</td>\n",
       "      <td>CHEVROLET</td>\n",
       "      <td>CAMARO ZL1</td>\n",
       "      <td>COMPACT</td>\n",
       "      <td>6.2</td>\n",
       "      <td>8</td>\n",
       "      <td>AS6</td>\n",
       "      <td>Z</td>\n",
       "      <td>17.8</td>\n",
       "      <td>11.0</td>\n",
       "      <td>14.8</td>\n",
       "      <td>19</td>\n",
       "      <td>340</td>\n",
       "    </tr>\n",
       "    <tr>\n",
       "      <th>11333</th>\n",
       "      <td>2012</td>\n",
       "      <td>CHEVROLET</td>\n",
       "      <td>SONIC 5</td>\n",
       "      <td>SUBCOMPACT</td>\n",
       "      <td>1.8</td>\n",
       "      <td>4</td>\n",
       "      <td>M5</td>\n",
       "      <td>X</td>\n",
       "      <td>7.7</td>\n",
       "      <td>5.6</td>\n",
       "      <td>6.8</td>\n",
       "      <td>42</td>\n",
       "      <td>156</td>\n",
       "    </tr>\n",
       "    <tr>\n",
       "      <th>...</th>\n",
       "      <td>...</td>\n",
       "      <td>...</td>\n",
       "      <td>...</td>\n",
       "      <td>...</td>\n",
       "      <td>...</td>\n",
       "      <td>...</td>\n",
       "      <td>...</td>\n",
       "      <td>...</td>\n",
       "      <td>...</td>\n",
       "      <td>...</td>\n",
       "      <td>...</td>\n",
       "      <td>...</td>\n",
       "      <td>...</td>\n",
       "    </tr>\n",
       "    <tr>\n",
       "      <th>11828</th>\n",
       "      <td>2012</td>\n",
       "      <td>MERCEDES-BENZ</td>\n",
       "      <td>S 63 AMG</td>\n",
       "      <td>FULL-SIZE</td>\n",
       "      <td>5.5</td>\n",
       "      <td>8</td>\n",
       "      <td>AS7</td>\n",
       "      <td>Z</td>\n",
       "      <td>13.8</td>\n",
       "      <td>9.1</td>\n",
       "      <td>11.6</td>\n",
       "      <td>24</td>\n",
       "      <td>267</td>\n",
       "    </tr>\n",
       "    <tr>\n",
       "      <th>20988</th>\n",
       "      <td>2021</td>\n",
       "      <td>Ford</td>\n",
       "      <td>GT</td>\n",
       "      <td>Two-seater</td>\n",
       "      <td>3.5</td>\n",
       "      <td>6</td>\n",
       "      <td>AM7</td>\n",
       "      <td>Z</td>\n",
       "      <td>19.8</td>\n",
       "      <td>12.8</td>\n",
       "      <td>16.6</td>\n",
       "      <td>17</td>\n",
       "      <td>393</td>\n",
       "    </tr>\n",
       "    <tr>\n",
       "      <th>8262</th>\n",
       "      <td>2009</td>\n",
       "      <td>FORD</td>\n",
       "      <td>EXPLORER SPORT TRAC</td>\n",
       "      <td>PICKUP TRUCK - STANDARD</td>\n",
       "      <td>4.0</td>\n",
       "      <td>6</td>\n",
       "      <td>A5</td>\n",
       "      <td>X</td>\n",
       "      <td>15.9</td>\n",
       "      <td>10.8</td>\n",
       "      <td>13.6</td>\n",
       "      <td>21</td>\n",
       "      <td>313</td>\n",
       "    </tr>\n",
       "    <tr>\n",
       "      <th>2685</th>\n",
       "      <td>2003</td>\n",
       "      <td>PORSCHE</td>\n",
       "      <td>911 CARRERA CABRIOLET</td>\n",
       "      <td>MINICOMPACT</td>\n",
       "      <td>3.6</td>\n",
       "      <td>6</td>\n",
       "      <td>M6</td>\n",
       "      <td>Z</td>\n",
       "      <td>13.1</td>\n",
       "      <td>8.2</td>\n",
       "      <td>10.9</td>\n",
       "      <td>26</td>\n",
       "      <td>251</td>\n",
       "    </tr>\n",
       "    <tr>\n",
       "      <th>12968</th>\n",
       "      <td>2013</td>\n",
       "      <td>MINI</td>\n",
       "      <td>JOHN COOPER WORKS ROADSTER</td>\n",
       "      <td>TWO-SEATER</td>\n",
       "      <td>1.6</td>\n",
       "      <td>4</td>\n",
       "      <td>M6</td>\n",
       "      <td>Z</td>\n",
       "      <td>7.7</td>\n",
       "      <td>5.6</td>\n",
       "      <td>6.8</td>\n",
       "      <td>42</td>\n",
       "      <td>156</td>\n",
       "    </tr>\n",
       "  </tbody>\n",
       "</table>\n",
       "<p>226 rows × 13 columns</p>\n",
       "</div>"
      ],
      "text/plain": [
       "       YEAR           MAKE                       MODEL  \\\n",
       "8816   2009         SATURN                 AURA HYBRID   \n",
       "4310   2005         JAGUAR           X-TYPE SPORTWAGON   \n",
       "17342  2017         NISSAN                    FRONTIER   \n",
       "13390  2014      CHEVROLET                  CAMARO ZL1   \n",
       "11333  2012      CHEVROLET                     SONIC 5   \n",
       "...     ...            ...                         ...   \n",
       "11828  2012  MERCEDES-BENZ                    S 63 AMG   \n",
       "20988  2021           Ford                          GT   \n",
       "8262   2009           FORD         EXPLORER SPORT TRAC   \n",
       "2685   2003        PORSCHE       911 CARRERA CABRIOLET   \n",
       "12968  2013           MINI  JOHN COOPER WORKS ROADSTER   \n",
       "\n",
       "                 VEHICLE CLASS  ENGINE SIZE  CYLINDERS TRANSMISSION FUEL  \\\n",
       "8816                  MID-SIZE          2.4          4           A4    X   \n",
       "4310     STATION WAGON - SMALL          2.5          6           M5    Z   \n",
       "17342     PICKUP TRUCK - SMALL          4.0          6           A5    X   \n",
       "13390                  COMPACT          6.2          8          AS6    Z   \n",
       "11333               SUBCOMPACT          1.8          4           M5    X   \n",
       "...                        ...          ...        ...          ...  ...   \n",
       "11828                FULL-SIZE          5.5          8          AS7    Z   \n",
       "20988               Two-seater          3.5          6          AM7    Z   \n",
       "8262   PICKUP TRUCK - STANDARD          4.0          6           A5    X   \n",
       "2685               MINICOMPACT          3.6          6           M6    Z   \n",
       "12968               TWO-SEATER          1.6          4           M6    Z   \n",
       "\n",
       "       FUEL CONSUMPTION  HWY (L/100 km)  COMB (L/100 km)  COMB (mpg)  \\\n",
       "8816                7.9             5.8              6.9          41   \n",
       "4310               12.2             7.9             10.3          27   \n",
       "17342              14.8            10.6             12.9          22   \n",
       "13390              17.8            11.0             14.8          19   \n",
       "11333               7.7             5.6              6.8          42   \n",
       "...                 ...             ...              ...         ...   \n",
       "11828              13.8             9.1             11.6          24   \n",
       "20988              19.8            12.8             16.6          17   \n",
       "8262               15.9            10.8             13.6          21   \n",
       "2685               13.1             8.2             10.9          26   \n",
       "12968               7.7             5.6              6.8          42   \n",
       "\n",
       "       EMISSIONS  \n",
       "8816         159  \n",
       "4310         237  \n",
       "17342        304  \n",
       "13390        340  \n",
       "11333        156  \n",
       "...          ...  \n",
       "11828        267  \n",
       "20988        393  \n",
       "8262         313  \n",
       "2685         251  \n",
       "12968        156  \n",
       "\n",
       "[226 rows x 13 columns]"
      ]
     },
     "execution_count": 2,
     "metadata": {},
     "output_type": "execute_result"
    }
   ],
   "source": [
    "fuel = pd.read_csv('/Users/asawari/Desktop/Fuel_Consumption_2000-2022.csv')\n",
    "fuel = fuel.sample(frac=0.01, random_state=99)\n",
    "fuel"
   ]
  },
  {
   "cell_type": "code",
   "execution_count": 3,
   "id": "4d1711d9",
   "metadata": {},
   "outputs": [
    {
     "data": {
      "text/plain": [
       "YEAR                0.0\n",
       "MAKE                0.0\n",
       "MODEL               0.0\n",
       "VEHICLE CLASS       0.0\n",
       "ENGINE SIZE         0.0\n",
       "CYLINDERS           0.0\n",
       "TRANSMISSION        0.0\n",
       "FUEL                0.0\n",
       "FUEL CONSUMPTION    0.0\n",
       "HWY (L/100 km)      0.0\n",
       "COMB (L/100 km)     0.0\n",
       "COMB (mpg)          0.0\n",
       "EMISSIONS           0.0\n",
       "dtype: float64"
      ]
     },
     "execution_count": 3,
     "metadata": {},
     "output_type": "execute_result"
    }
   ],
   "source": [
    "fuel.isnull().sum()/len(fuel)"
   ]
  },
  {
   "cell_type": "code",
   "execution_count": 4,
   "id": "cbdda1ef",
   "metadata": {},
   "outputs": [
    {
     "name": "stderr",
     "output_type": "stream",
     "text": [
      "WARNING (theano.configdefaults): g++ not detected ! Theano will be unable to execute optimized C-implementations (for both CPU and GPU) and will default to Python implementations. Performance will be severely degraded. To remove this warning, set Theano flags cxx to an empty string.\n",
      "WARNING (theano.tensor.blas): Using NumPy C-API based implementation for BLAS functions.\n",
      "/Users/asawari/opt/anaconda3/lib/python3.9/site-packages/seaborn/distributions.py:2619: FutureWarning: `distplot` is a deprecated function and will be removed in a future version. Please adapt your code to use either `displot` (a figure-level function with similar flexibility) or `histplot` (an axes-level function for histograms).\n",
      "  warnings.warn(msg, FutureWarning)\n",
      "/Users/asawari/opt/anaconda3/lib/python3.9/site-packages/seaborn/distributions.py:2619: FutureWarning: `distplot` is a deprecated function and will be removed in a future version. Please adapt your code to use either `displot` (a figure-level function with similar flexibility) or `histplot` (an axes-level function for histograms).\n",
      "  warnings.warn(msg, FutureWarning)\n"
     ]
    },
    {
     "data": {
      "text/plain": [
       "(-10.0, 10.0)"
      ]
     },
     "execution_count": 4,
     "metadata": {},
     "output_type": "execute_result"
    },
    {
     "data": {
      "image/png": "[encoded data removed]",
      "text/plain": [
       "<Figure size 432x288 with 1 Axes>"
      ]
     },
     "metadata": {
      "needs_background": "light"
     },
     "output_type": "display_data"
    }
   ],
   "source": [
    "from pymc3 import StudentT, Normal\n",
    "\n",
    "t = StudentT.dist(nu=3).random(size=10000)\n",
    "n = Normal.dist(0,1).random(size=10000)\n",
    "\n",
    "sns.distplot(t, label='Student-T')\n",
    "sns.distplot(n, label='Gaussian')\n",
    "plt.legend()\n",
    "plt.xlim(-10,10)"
   ]
  },
  {
   "cell_type": "markdown",
   "id": "bac229d3",
   "metadata": {},
   "source": [
    "Now, lets properly index the means and sd variables using the Emissions variable. I'm modeling data using a Student-T pdf model with 3 parameters and I model the first parameter using a normal distribution (pdf). As most of the values are centered around 300 s0 the Student-T priors for $\\mu$ at 300 and standard deviation at 10"
   ]
  },
  {
   "cell_type": "code",
   "execution_count": 5,
   "id": "6853ff8a",
   "metadata": {},
   "outputs": [],
   "source": [
    "from pymc3 import Model, Uniform\n",
    "\n",
    "with Model() as fuel_model:\n",
    "    μ_0 = Normal('μ_0', 300, sd=10)\n",
    "    μ_1 = Normal('μ_1', 300, sd=10)"
   ]
  },
  {
   "cell_type": "markdown",
   "id": "b0c4e085",
   "metadata": {},
   "source": [
    "I use a uniform distribution (pdf) to model the second parameter of the pdf-based model (standard deviation). Here, I have used upper bound as 650 and lower bound as 0"
   ]
  },
  {
   "cell_type": "code",
   "execution_count": 6,
   "id": "686e74ea",
   "metadata": {},
   "outputs": [],
   "source": [
    "with fuel_model: \n",
    "    σ_0 = Uniform('σ_0', lower=0, upper=650)\n",
    "    σ_1 = Uniform('σ_1', lower=0, upper=650)"
   ]
  },
  {
   "cell_type": "markdown",
   "id": "03d111b0",
   "metadata": {},
   "source": [
    "For the degrees-of-freedom parameter\n",
    "ν\n",
    " , use an exponential distribution with a mean of 250. I use an exponential distribution to model the third parameter of my student-T model."
   ]
  },
  {
   "cell_type": "code",
   "execution_count": 7,
   "id": "b40b9850",
   "metadata": {},
   "outputs": [
    {
     "name": "stderr",
     "output_type": "stream",
     "text": [
      "/Users/asawari/opt/anaconda3/lib/python3.9/site-packages/seaborn/distributions.py:2619: FutureWarning: `distplot` is a deprecated function and will be removed in a future version. Please adapt your code to use either `displot` (a figure-level function with similar flexibility) or `histplot` (an axes-level function for histograms).\n",
      "  warnings.warn(msg, FutureWarning)\n"
     ]
    },
    {
     "data": {
      "image/png": "[encoded data removed]",
      "text/plain": [
       "<Figure size 432x288 with 1 Axes>"
      ]
     },
     "metadata": {
      "needs_background": "light"
     },
     "output_type": "display_data"
    }
   ],
   "source": [
    "from pymc3 import Exponential\n",
    "sns.distplot(Exponential.dist(1/250).random(size=10000), kde=False);"
   ]
  },
  {
   "cell_type": "code",
   "execution_count": 8,
   "id": "3848a6bb",
   "metadata": {},
   "outputs": [],
   "source": [
    "with fuel_model:\n",
    "    ν = Exponential('ν_minus_one2', 1/300.) + 1"
   ]
  },
  {
   "cell_type": "code",
   "execution_count": 9,
   "id": "13ce0937",
   "metadata": {},
   "outputs": [],
   "source": [
    "with fuel_model:\n",
    "    fuel_like = StudentT('fuel_like2', nu=ν, mu=μ_1, lam=σ_1**2, observed=fuel['EMISSIONS'].values)"
   ]
  },
  {
   "cell_type": "code",
   "execution_count": 10,
   "id": "22996bf6",
   "metadata": {},
   "outputs": [],
   "source": [
    "from pymc3 import Deterministic\n",
    "\n",
    "with fuel_model:\n",
    "    diff_of_means = Deterministic('difference of means1', μ_1 - μ_0)\n",
    "    effect_size = Deterministic('effect size1', diff_of_means / np.sqrt((σ_1**2 + σ_0**2) / 2))"
   ]
  },
  {
   "cell_type": "code",
   "execution_count": 11,
   "id": "dbf1813f",
   "metadata": {},
   "outputs": [
    {
     "data": {
      "text/html": [
       "\n",
       "<style>\n",
       "    /* Turns off some styling */\n",
       "    progress {\n",
       "        /* gets rid of default border in Firefox and Opera. */\n",
       "        border: none;\n",
       "        /* Needs to be in here for Safari polyfill so background images work as expected. */\n",
       "        background-size: auto;\n",
       "    }\n",
       "    progress:not([value]), progress:not([value])::-webkit-progress-bar {\n",
       "        background: repeating-linear-gradient(45deg, #7e7e7e, #7e7e7e 10px, #5c5c5c 10px, #5c5c5c 20px);\n",
       "    }\n",
       "    .progress-bar-interrupted, .progress-bar-interrupted::-webkit-progress-bar {\n",
       "        background: #F44336;\n",
       "    }\n",
       "</style>\n"
      ],
      "text/plain": [
       "<IPython.core.display.HTML object>"
      ]
     },
     "metadata": {},
     "output_type": "display_data"
    },
    {
     "data": {
      "text/html": [
       "\n",
       "    <div>\n",
       "      <progress value='10000' class='' max='10000' style='width:300px; height:20px; vertical-align: middle;'></progress>\n",
       "      100.00% [10000/10000 02:24&lt;00:00 Average Loss = 22,197]\n",
       "    </div>\n",
       "    "
      ],
      "text/plain": [
       "<IPython.core.display.HTML object>"
      ]
     },
     "metadata": {},
     "output_type": "display_data"
    },
    {
     "name": "stderr",
     "output_type": "stream",
     "text": [
      "Finished [100%]: Average Loss = 22,131\n"
     ]
    }
   ],
   "source": [
    "from pymc3 import fit\n",
    "\n",
    "with fuel_model: \n",
    "    fuel_trace = fit(random_seed=RANDOM_SEED).sample(1000)"
   ]
  },
  {
   "cell_type": "markdown",
   "id": "8b2b415c",
   "metadata": {},
   "source": [
    "plotting all posterior distributions, throwing away the first 100 samples"
   ]
  },
  {
   "cell_type": "code",
   "execution_count": 13,
   "id": "56b771c9",
   "metadata": {},
   "outputs": [
    {
     "name": "stderr",
     "output_type": "stream",
     "text": [
      "Got error No model on context stack. trying to find log_likelihood in translation.\n"
     ]
    },
    {
     "data": {
      "image/png": "[encoded data removed]",
      "text/plain": [
       "<Figure size 1490.4x662.4 with 6 Axes>"
      ]
     },
     "metadata": {
      "needs_background": "light"
     },
     "output_type": "display_data"
    }
   ],
   "source": [
    "#from pymc3 import plot_posterior\n",
    "from arviz import plot_posterior\n",
    "\n",
    "plot_posterior(fuel_trace[100:], \n",
    "                var_names=['μ_0', 'μ_1', 'σ_0', 'σ_1', 'ν_minus_one2'],\n",
    "                color='#87ceeb');\n"
   ]
  },
  {
   "cell_type": "markdown",
   "id": "879ea14f",
   "metadata": {},
   "source": [
    "# Q3. Which method is more correct, and which was the most fun?"
   ]
  },
  {
   "cell_type": "markdown",
   "id": "ebb344f6",
   "metadata": {},
   "source": [
    "Both Maximum Likelihood Estimation (MLE) and Bayesian simulation using PyMC3 are valid methods for parameter estimation in statistical modeling, but they have different approaches and assumptions.\n",
    "\n",
    "MLE is a method of finding the values of model parameters that maximize the likelihood of the observed data. It assumes that the data is generated by a fixed but unknown set of parameters and that the likelihood function is well-defined and differentiable. MLE is widely used and relatively easy to implement, but it doesn't provide any information about the uncertainty or variability of the estimated parameters.\n",
    "\n",
    "On the other hand, Bayesian simulation using PyMC3 is a method that uses Bayesian inference to estimate the posterior distribution of the model parameters. It assumes that the model parameters are random variables with prior distributions and uses Bayes' theorem to update the prior distributions with the observed data to obtain the posterior distributions. Bayesian simulation provides not only point estimates of the parameters but also their uncertainty and variability, expressed as a posterior distribution.\n",
    "\n",
    "In terms of which method is \"more correct,\" it really depends on the specific problem and the assumptions that are appropriate for the data and the model being used. MLE may be preferred in cases where the model is well-defined and the assumptions of the likelihood function are appropriate, whereas Bayesian simulation may be preferred when prior information is available, or when uncertainty and variability in the estimates are important.\n",
    "\n",
    "As for which method is more fun, that is subjective and depends on personal preferences. Some people may enjoy the simplicity and elegance of MLE, while others may enjoy the flexibility and richness of Bayesian simulation using PyMC3. Ultimately, both methods can be rewarding and provide valuable insights into statistical modeling and parameter estimation."
   ]
  }
 ],
 "metadata": {
  "kernelspec": {
   "display_name": "Python 3 (ipykernel)",
   "language": "python",
   "name": "python3"
  },
  "language_info": {
   "codemirror_mode": {
    "name": "ipython",
    "version": 3
   },
   "file_extension": ".py",
   "mimetype": "text/x-python",
   "name": "python",
   "nbconvert_exporter": "python",
   "pygments_lexer": "ipython3",
   "version": "3.9.12"
  }
 },
 "nbformat": 4,
 "nbformat_minor": 5
}
