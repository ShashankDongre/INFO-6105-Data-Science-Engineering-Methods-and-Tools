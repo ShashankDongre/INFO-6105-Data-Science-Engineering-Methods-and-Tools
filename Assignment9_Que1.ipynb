{
 "cells": [
  {
   "cell_type": "markdown",
   "metadata": {},
   "source": [
    "<div style=\"text-align: left\">INFO 6105 Data Science Engineering Methods and Tools</div>\n",
    "<div style=\"text-align: left\">Assignment 9 Group 5</div>\n",
    "<div style=\"text-align: left\">Shashank Dongre (002747740)</div>\n",
    "<div style=\"text-align: left\"> Asawari Kadam (002711195)</div>"
   ]
  },
  {
   "cell_type": "markdown",
   "metadata": {},
   "source": [
    "#### Question 1: Repeat your experiment with MOM on a single-humped dataset but with MLE instead!"
   ]
  },
  {
   "cell_type": "markdown",
   "metadata": {},
   "source": [
    "##### First, let us take a look at our data set and plot its histogram, and find its MoM\n"
   ]
  },
  {
   "cell_type": "code",
   "execution_count": 314,
   "metadata": {},
   "outputs": [
    {
     "data": {
      "text/html": [
       "<div>\n",
       "<style scoped>\n",
       "    .dataframe tbody tr th:only-of-type {\n",
       "        vertical-align: middle;\n",
       "    }\n",
       "\n",
       "    .dataframe tbody tr th {\n",
       "        vertical-align: top;\n",
       "    }\n",
       "\n",
       "    .dataframe thead th {\n",
       "        text-align: right;\n",
       "    }\n",
       "</style>\n",
       "<table border=\"1\" class=\"dataframe\">\n",
       "  <thead>\n",
       "    <tr style=\"text-align: right;\">\n",
       "      <th></th>\n",
       "      <th>YEAR</th>\n",
       "      <th>MAKE</th>\n",
       "      <th>MODEL</th>\n",
       "      <th>VEHICLE CLASS</th>\n",
       "      <th>ENGINE SIZE</th>\n",
       "      <th>CYLINDERS</th>\n",
       "      <th>TRANSMISSION</th>\n",
       "      <th>FUEL</th>\n",
       "      <th>FUEL CONSUMPTION</th>\n",
       "      <th>HWY (L/100 km)</th>\n",
       "      <th>COMB (L/100 km)</th>\n",
       "      <th>COMB (mpg)</th>\n",
       "      <th>EMISSIONS</th>\n",
       "    </tr>\n",
       "  </thead>\n",
       "  <tbody>\n",
       "    <tr>\n",
       "      <th>0</th>\n",
       "      <td>2000</td>\n",
       "      <td>ACURA</td>\n",
       "      <td>1.6EL</td>\n",
       "      <td>COMPACT</td>\n",
       "      <td>1.6</td>\n",
       "      <td>4</td>\n",
       "      <td>A4</td>\n",
       "      <td>X</td>\n",
       "      <td>9.2</td>\n",
       "      <td>6.7</td>\n",
       "      <td>8.1</td>\n",
       "      <td>35</td>\n",
       "      <td>186</td>\n",
       "    </tr>\n",
       "    <tr>\n",
       "      <th>1</th>\n",
       "      <td>2000</td>\n",
       "      <td>ACURA</td>\n",
       "      <td>1.6EL</td>\n",
       "      <td>COMPACT</td>\n",
       "      <td>1.6</td>\n",
       "      <td>4</td>\n",
       "      <td>M5</td>\n",
       "      <td>X</td>\n",
       "      <td>8.5</td>\n",
       "      <td>6.5</td>\n",
       "      <td>7.6</td>\n",
       "      <td>37</td>\n",
       "      <td>175</td>\n",
       "    </tr>\n",
       "    <tr>\n",
       "      <th>2</th>\n",
       "      <td>2000</td>\n",
       "      <td>ACURA</td>\n",
       "      <td>3.2TL</td>\n",
       "      <td>MID-SIZE</td>\n",
       "      <td>3.2</td>\n",
       "      <td>6</td>\n",
       "      <td>AS5</td>\n",
       "      <td>Z</td>\n",
       "      <td>12.2</td>\n",
       "      <td>7.4</td>\n",
       "      <td>10.0</td>\n",
       "      <td>28</td>\n",
       "      <td>230</td>\n",
       "    </tr>\n",
       "  </tbody>\n",
       "</table>\n",
       "</div>"
      ],
      "text/plain": [
       "   YEAR   MAKE  MODEL VEHICLE CLASS  ENGINE SIZE  CYLINDERS TRANSMISSION FUEL  \\\n",
       "0  2000  ACURA  1.6EL       COMPACT          1.6          4           A4    X   \n",
       "1  2000  ACURA  1.6EL       COMPACT          1.6          4           M5    X   \n",
       "2  2000  ACURA  3.2TL      MID-SIZE          3.2          6          AS5    Z   \n",
       "\n",
       "   FUEL CONSUMPTION  HWY (L/100 km)  COMB (L/100 km)  COMB (mpg)  EMISSIONS  \n",
       "0               9.2             6.7              8.1          35        186  \n",
       "1               8.5             6.5              7.6          37        175  \n",
       "2              12.2             7.4             10.0          28        230  "
      ]
     },
     "execution_count": 314,
     "metadata": {},
     "output_type": "execute_result"
    }
   ],
   "source": [
    "# importing required libraries as follows: \n",
    "# Lets read the dataset using read_csv API\n",
    "import numpy as np\n",
    "import matplotlib.pyplot as plt\n",
    "%matplotlib inline\n",
    "import seaborn as sns\n",
    "import pandas as pd\n",
    "fuel_con = pd.read_csv(\"C:\\\\Users\\\\shash\\\\Downloads\\\\Fuel_Consumption_2000-2022.csv\")\n",
    "fuel_con.head(3)"
   ]
  },
  {
   "cell_type": "code",
   "execution_count": 315,
   "metadata": {},
   "outputs": [
    {
     "data": {
      "text/html": [
       "<div>\n",
       "<style scoped>\n",
       "    .dataframe tbody tr th:only-of-type {\n",
       "        vertical-align: middle;\n",
       "    }\n",
       "\n",
       "    .dataframe tbody tr th {\n",
       "        vertical-align: top;\n",
       "    }\n",
       "\n",
       "    .dataframe thead th {\n",
       "        text-align: right;\n",
       "    }\n",
       "</style>\n",
       "<table border=\"1\" class=\"dataframe\">\n",
       "  <thead>\n",
       "    <tr style=\"text-align: right;\">\n",
       "      <th></th>\n",
       "      <th>YEAR</th>\n",
       "      <th>MAKE</th>\n",
       "      <th>MODEL</th>\n",
       "      <th>VEHICLE CLASS</th>\n",
       "      <th>ENGINE SIZE</th>\n",
       "      <th>CYLINDERS</th>\n",
       "      <th>TRANSMISSION</th>\n",
       "      <th>FUEL</th>\n",
       "      <th>FUEL CONSUMPTION</th>\n",
       "      <th>HWY</th>\n",
       "      <th>COMB (L/100 km)</th>\n",
       "      <th>COMB (mpg)</th>\n",
       "      <th>EMISSIONS</th>\n",
       "    </tr>\n",
       "  </thead>\n",
       "  <tbody>\n",
       "    <tr>\n",
       "      <th>0</th>\n",
       "      <td>2000</td>\n",
       "      <td>ACURA</td>\n",
       "      <td>1.6EL</td>\n",
       "      <td>COMPACT</td>\n",
       "      <td>1.6</td>\n",
       "      <td>4</td>\n",
       "      <td>A4</td>\n",
       "      <td>X</td>\n",
       "      <td>9.2</td>\n",
       "      <td>6.7</td>\n",
       "      <td>8.1</td>\n",
       "      <td>35</td>\n",
       "      <td>186</td>\n",
       "    </tr>\n",
       "    <tr>\n",
       "      <th>1</th>\n",
       "      <td>2000</td>\n",
       "      <td>ACURA</td>\n",
       "      <td>1.6EL</td>\n",
       "      <td>COMPACT</td>\n",
       "      <td>1.6</td>\n",
       "      <td>4</td>\n",
       "      <td>M5</td>\n",
       "      <td>X</td>\n",
       "      <td>8.5</td>\n",
       "      <td>6.5</td>\n",
       "      <td>7.6</td>\n",
       "      <td>37</td>\n",
       "      <td>175</td>\n",
       "    </tr>\n",
       "  </tbody>\n",
       "</table>\n",
       "</div>"
      ],
      "text/plain": [
       "   YEAR   MAKE  MODEL VEHICLE CLASS  ENGINE SIZE  CYLINDERS TRANSMISSION FUEL  \\\n",
       "0  2000  ACURA  1.6EL       COMPACT          1.6          4           A4    X   \n",
       "1  2000  ACURA  1.6EL       COMPACT          1.6          4           M5    X   \n",
       "\n",
       "   FUEL CONSUMPTION  HWY  COMB (L/100 km)  COMB (mpg)  EMISSIONS  \n",
       "0               9.2  6.7              8.1          35        186  \n",
       "1               8.5  6.5              7.6          37        175  "
      ]
     },
     "execution_count": 315,
     "metadata": {},
     "output_type": "execute_result"
    }
   ],
   "source": [
    "# Renaming the column of our interest. Here, we are interested in the fuel consumption of the cars per 100 km\n",
    "fuel_con.rename(columns = {'HWY (L/100 km)':'HWY'}, inplace = True)\n",
    "fuel_con.head(2)"
   ]
  },
  {
   "cell_type": "code",
   "execution_count": 316,
   "metadata": {},
   "outputs": [
    {
     "data": {
      "image/png": "[encoded data removed]",
      "text/plain": [
       "<Figure size 640x480 with 9 Axes>"
      ]
     },
     "metadata": {},
     "output_type": "display_data"
    }
   ],
   "source": [
    "# Let us view the histogram of the dataset and all its parameters \n",
    "# the tight_layout automatically adjust subplot parameters to give specified padding which enables proper fitting\n",
    "fuel_con.hist()\n",
    "plt.tight_layout()"
   ]
  },
  {
   "cell_type": "code",
   "execution_count": 317,
   "metadata": {},
   "outputs": [
    {
     "data": {
      "text/plain": [
       "<AxesSubplot: >"
      ]
     },
     "execution_count": 317,
     "metadata": {},
     "output_type": "execute_result"
    },
    {
     "data": {
      "image/png": "[encoded data removed]",
      "text/plain": [
       "<Figure size 640x480 with 1 Axes>"
      ]
     },
     "metadata": {},
     "output_type": "display_data"
    }
   ],
   "source": [
    "# Let us look at the histogram of HWY column\n",
    "fuel_con.HWY.hist()"
   ]
  },
  {
   "cell_type": "code",
   "execution_count": 318,
   "metadata": {},
   "outputs": [
    {
     "data": {
      "text/plain": [
       "YEAR                2011.554442\n",
       "ENGINE SIZE            3.356646\n",
       "CYLINDERS              5.854141\n",
       "FUEL CONSUMPTION      12.763513\n",
       "HWY                    8.919126\n",
       "COMB (L/100 km)       11.034341\n",
       "COMB (mpg)            27.374534\n",
       "EMISSIONS            250.068452\n",
       "dtype: float64"
      ]
     },
     "execution_count": 318,
     "metadata": {},
     "output_type": "execute_result"
    }
   ],
   "source": [
    "# Calculating mean of every column in the dataset \n",
    "fuel_con_mean = fuel_con.select_dtypes(include=np.number).mean()\n",
    "fuel_con_mean"
   ]
  },
  {
   "cell_type": "code",
   "execution_count": 319,
   "metadata": {},
   "outputs": [
    {
     "data": {
      "text/plain": [
       "YEAR                  39.668195\n",
       "ENGINE SIZE            1.783360\n",
       "CYLINDERS              3.310934\n",
       "FUEL CONSUMPTION      12.256993\n",
       "HWY                    5.174551\n",
       "COMB (L/100 km)        8.473455\n",
       "COMB (mpg)            54.419860\n",
       "EMISSIONS           3523.048828\n",
       "dtype: float64"
      ]
     },
     "execution_count": 319,
     "metadata": {},
     "output_type": "execute_result"
    }
   ],
   "source": [
    "# Calculating variance of every column in the dataset \n",
    "fuel_con_var = fuel_con.select_dtypes(include=np.number).var()\n",
    "fuel_con_var"
   ]
  },
  {
   "cell_type": "markdown",
   "metadata": {},
   "source": [
    "The method of moments simply assigns the empirical (coming from the data) mean and variance to their theoretical counterparts (coming from the model, in this case the Gamma!), so that we can solve for the parameters of the Gamma!\n",
    "\n",
    "So, for the gamma distribution, the mean and variance turn out to be (analytically derived):\n"
   ]
  },
  {
   "cell_type": "code",
   "execution_count": 320,
   "metadata": {},
   "outputs": [
    {
     "data": {
      "text/plain": [
       "YEAR                102004.924704\n",
       "ENGINE SIZE              6.317887\n",
       "CYLINDERS               10.350844\n",
       "FUEL CONSUMPTION        13.290965\n",
       "HWY                     15.373471\n",
       "COMB (L/100 km)         14.369190\n",
       "COMB (mpg)              13.770067\n",
       "EMISSIONS               17.750032\n",
       "dtype: float64"
      ]
     },
     "execution_count": 320,
     "metadata": {},
     "output_type": "execute_result"
    }
   ],
   "source": [
    "alpha_mom = fuel_con_mean ** 2 / fuel_con_var\n",
    "beta_mom = fuel_con_var / fuel_con_mean\n",
    "alpha_mom"
   ]
  },
  {
   "cell_type": "code",
   "execution_count": 321,
   "metadata": {},
   "outputs": [
    {
     "data": {
      "text/plain": [
       "YEAR                 0.019720\n",
       "ENGINE SIZE          0.531292\n",
       "CYLINDERS            0.565571\n",
       "FUEL CONSUMPTION     0.960315\n",
       "HWY                  0.580163\n",
       "COMB (L/100 km)      0.767917\n",
       "COMB (mpg)           1.987974\n",
       "EMISSIONS           14.088338\n",
       "dtype: float64"
      ]
     },
     "execution_count": 321,
     "metadata": {},
     "output_type": "execute_result"
    }
   ],
   "source": [
    "beta_mom"
   ]
  },
  {
   "cell_type": "markdown",
   "metadata": {},
   "source": [
    "Then, use the gamma.pdf function in scipy.stats.distributions to plot the MoM distribution implied by the calculated alphas and betas. We select alpha_mom[-4] and beta_mom[-4] because HWY is the fourth column from the end."
   ]
  },
  {
   "cell_type": "code",
   "execution_count": 322,
   "metadata": {},
   "outputs": [
    {
     "data": {
      "text/plain": [
       "[<matplotlib.lines.Line2D at 0x211a6de3290>]"
      ]
     },
     "execution_count": 322,
     "metadata": {},
     "output_type": "execute_result"
    },
    {
     "data": {
      "image/png": "[encoded data removed]",
      "text/plain": [
       "<Figure size 640x480 with 1 Axes>"
      ]
     },
     "metadata": {},
     "output_type": "display_data"
    }
   ],
   "source": [
    "from scipy.stats.distributions import gamma\n",
    "\n",
    "fuel_con.HWY.hist(density=True, bins=10)\n",
    "plt.plot(np.linspace(0, 25), gamma.pdf(np.linspace(0, 50), alpha_mom[-4], beta_mom[-4]))"
   ]
  },
  {
   "cell_type": "code",
   "execution_count": 323,
   "metadata": {},
   "outputs": [],
   "source": [
    "from scipy.optimize import newton"
   ]
  },
  {
   "cell_type": "markdown",
   "metadata": {},
   "source": [
    "Let us put MLE to use now, we start with \n",
    "$$l = \\prod_{i=1}^n \\beta^{\\alpha} x^{\\alpha-1} e^{-x/\\beta}\\Gamma(\\alpha)^{-1}$$ with respect to $(\\alpha, \\beta)$\n",
    "\n",
    "In order to make the likelihood function more manageable (this is legit since `log` is monotonic with respect to its argument), the optimization is performed ***using a natural log transformation of the likelihood function***. In other words, we apply a **kernel method** transformation, which we learned about in our previous notebook. \n",
    "\n",
    "We are going to use the property that the *log of a product is the sum of the logs*:\n",
    "\n",
    "$$ log(ab) = log(a) + log(b)$$\n",
    "\n",
    "We want to maximize:\n",
    "\n",
    "$$\\begin{align}log(l)(\\alpha,\\beta) &= \\sum_{i=1}^n \\log[\\beta^{\\alpha} x^{\\alpha-1} e^{-x/\\beta}\\Gamma(\\alpha)^{-1}] \\cr \n",
    "&= n[(\\alpha-1)\\overline{\\log(x)} - \\bar{x}\\beta + \\alpha\\log(\\beta) - \\log\\Gamma(\\alpha)]\\end{align}$$\n",
    "\n",
    "where\n",
    "\n",
    "$$\\bar{x} = \\frac{\\sum_i{x_i}}{n}$$\n",
    "\n",
    "here n = 2022-2000=22 and the bar indicates an average over all *i*. We want to choose $\\alpha$ and $\\beta$ to maximize $l(\\alpha,\\beta)$."
   ]
  },
  {
   "cell_type": "markdown",
   "metadata": {},
   "source": [
    "## 3.5 Solving the equation\n",
    "\n",
    "To find the maximum of any function, we typically take the *derivative* with respect to the variable to be maximized, set it to zero and solve for that variable. \n",
    "\n",
    "$$\\frac{\\partial log(l)(\\alpha,\\beta)}{\\partial \\beta} = n\\left(\\frac{\\alpha}{\\beta} - \\bar{x}\\right) = 0$$\n",
    "\n",
    "Which can be solved as $\\beta = \\alpha\\; / \\; \\bar{x}$. However, plugging this into the derivative with respect to $\\alpha$ yields:\n",
    "\n",
    "$$\\frac{\\partial log(l)(\\alpha,\\beta)}{\\partial \\alpha} = \\log(\\alpha) + \\overline{\\log(x)} - \\log(\\bar{x}) - \\frac{\\partial log(\\Gamma(\\alpha))}{\\partial\\alpha} = 0$$\n",
    "\n",
    "This has ***no closed form solution***! We must use ***numerical optimization***!\n",
    "\n",
    "Numerical optimization algorithms take an initial \"*guess*\" at the solution, and iteratively improves the guess until it gets \"*close enough*\" to the answer.\n",
    "\n",
    "Here, we will use [Newton-Raphson](https://en.wikipedia.org/wiki/Newton%27s_method) algorithm from [scipy](https://docs.scipy.org/doc/scipy/reference/generated/scipy.optimize.newton.html):\n",
    "\n",
    "<div style=\"font-size: 120%;\">  \n",
    "$$x_{n+1} = x_n - \\frac{f(x_n)}{f'(x_n)}$$\n",
    "</div>"
   ]
  },
  {
   "cell_type": "markdown",
   "metadata": {},
   "source": [
    "Here is a graphical example of how Newton-Raphson converges on a solution: what is the $x$ for which  $f(x) = 0$, using derivatives:"
   ]
  },
  {
   "cell_type": "code",
   "execution_count": 324,
   "metadata": {},
   "outputs": [
    {
     "data": {
      "text/plain": [
       "Text(1.4706070287539936, -0.2, '$x_{n+1}$')"
      ]
     },
     "execution_count": 324,
     "metadata": {},
     "output_type": "execute_result"
    },
    {
     "data": {
      "image/png": "[encoded data removed]",
      "text/plain": [
       "<Figure size 640x480 with 1 Axes>"
      ]
     },
     "metadata": {},
     "output_type": "display_data"
    }
   ],
   "source": [
    "# some function\n",
    "func = lambda x: 3./(1 + 400*np.exp(-2*x)) - 1\n",
    "xvals = np.linspace(0, 6)\n",
    "plt.plot(xvals, func(xvals))\n",
    "plt.text(5.3, 2.1, '$f(x)$', fontsize=16)\n",
    "\n",
    "# zero line\n",
    "plt.plot([0,6], [0,0], 'k-')\n",
    "\n",
    "# value at step n\n",
    "plt.plot([4,4], [0,func(4)], 'k:')\n",
    "plt.text(4, -.2, '$x_n$', fontsize=16)\n",
    "\n",
    "# tangent line\n",
    "tanline = lambda x: -0.858 + 0.626*x\n",
    "plt.plot(xvals, tanline(xvals), 'r--')\n",
    "\n",
    "# point at step n+1\n",
    "xprime = 0.858/0.626\n",
    "plt.plot([xprime, xprime], [tanline(xprime), func(xprime)], 'k:')\n",
    "plt.text(xprime+.1, -.2, '$x_{n+1}$', fontsize=16)"
   ]
  },
  {
   "cell_type": "code",
   "execution_count": 325,
   "metadata": {},
   "outputs": [],
   "source": [
    "from scipy.special import psi, polygamma"
   ]
  },
  {
   "cell_type": "code",
   "execution_count": 326,
   "metadata": {},
   "outputs": [],
   "source": [
    "# We first define a function for exception handling. \n",
    "# if an exception occurs (i.e., if x is not a valid input for the \"log\" function), the function will return NaN (not a number) \n",
    "# using the numpy library's \"nan\" function.\n",
    "\n",
    "def safe_log(x):\n",
    "    try:\n",
    "        return np.log(x)\n",
    "    except:\n",
    "        return np.nan\n"
   ]
  },
  {
   "cell_type": "markdown",
   "metadata": {},
   "source": [
    "The dlgamma function takes three parameters m, log_mean, and mean_log. It returns the value of the log-derivative of the gamma function at m.\n",
    "\n",
    "The dl2gamma function takes a variable number of parameters, with m being the first parameter. It calculates the second derivative of the log of the gamma function at m.\n",
    "\n",
    "We use psi() for the digamma function, polygamma() for the trigamma function, and np.log() for the natural logarithm. "
   ]
  },
  {
   "cell_type": "code",
   "execution_count": 327,
   "metadata": {},
   "outputs": [],
   "source": [
    "# Note that log_mean and mean_log are parameters of the dlgamma function\n",
    "dlgamma = lambda m, log_mean, mean_log: np.log(m) - psi(m) - log_mean + mean_log\n",
    "dl2gamma = lambda m, *args: 1./m - polygamma(1, m)"
   ]
  },
  {
   "cell_type": "code",
   "execution_count": 328,
   "metadata": {},
   "outputs": [
    {
     "data": {
      "text/plain": [
       "YEAR                7.606663\n",
       "ENGINE SIZE         1.210942\n",
       "CYLINDERS           1.767149\n",
       "FUEL CONSUMPTION    2.546591\n",
       "HWY                 2.188198\n",
       "COMB (L/100 km)     2.401012\n",
       "COMB (mpg)          3.309613\n",
       "EMISSIONS           5.521735\n",
       "dtype: float64"
      ]
     },
     "execution_count": 328,
     "metadata": {},
     "output_type": "execute_result"
    }
   ],
   "source": [
    "# Let us calculate statistics\n",
    "# log_mean is used to calculate the natural logarithm of the mean value for each numeric column in the fuel_con dataframe. \n",
    "# 'select_dtypes' method is used to filter the columns based on their data type, mean for calculating mean, \n",
    "# and apply method to apply the safe_log function \n",
    "\n",
    "log_mean = fuel_con.select_dtypes(include=np.number).mean().apply(safe_log)\n",
    "log_mean\n",
    "\n"
   ]
  },
  {
   "cell_type": "code",
   "execution_count": 329,
   "metadata": {},
   "outputs": [
    {
     "data": {
      "text/plain": [
       "YEAR                7.606658\n",
       "MAKE                     NaN\n",
       "MODEL                    NaN\n",
       "VEHICLE CLASS            NaN\n",
       "ENGINE SIZE         1.131797\n",
       "CYLINDERS           1.721578\n",
       "TRANSMISSION             NaN\n",
       "FUEL                     NaN\n",
       "FUEL CONSUMPTION    2.509422\n",
       "HWY                 2.157602\n",
       "COMB (L/100 km)     2.367338\n",
       "COMB (mpg)          3.275512\n",
       "EMISSIONS           5.493425\n",
       "dtype: float64"
      ]
     },
     "execution_count": 329,
     "metadata": {},
     "output_type": "execute_result"
    }
   ],
   "source": [
    "# Now, we calculate the mean of the natural logarithm of each element in the fuel_con dataframe.\n",
    "mean_log = fuel_con.apply(safe_log).mean()\n",
    "mean_log\n"
   ]
  },
  {
   "cell_type": "markdown",
   "metadata": {},
   "source": [
    "We now use the newton function to compute the maximum likelihood estimate (MLE) of the shape parameter alpha for the gamma distribution of the HWY column in the fuel_con dataframe. The newton function uses the Newton-Raphson method to find the root of a scalar function. The newton function starts with an initial guess of 2 for the shape parameter m, and iteratively refines this estimate until the scalar function is minimized. We are using maximum likelihood estimation to find the best-fitting shape parameter for the gamma distribution of the HWY column in the fuel_con dataframe, based on the observed data.\n"
   ]
  },
  {
   "cell_type": "code",
   "execution_count": 330,
   "metadata": {},
   "outputs": [
    {
     "data": {
      "text/plain": [
       "16.50701114209817"
      ]
     },
     "execution_count": 330,
     "metadata": {},
     "output_type": "execute_result"
    }
   ],
   "source": [
    "# Alpha MLE for HWY\n",
    "alpha_mle = newton(dlgamma, 2, dl2gamma, args=(log_mean[-4], mean_log[-4]))\n",
    "alpha_mle"
   ]
  },
  {
   "cell_type": "code",
   "execution_count": 331,
   "metadata": {},
   "outputs": [
    {
     "data": {
      "text/plain": [
       "1.8507431825718406"
      ]
     },
     "execution_count": 331,
     "metadata": {},
     "output_type": "execute_result"
    }
   ],
   "source": [
    "# Beta MLE for HWY (best fitting scale parameter beta)\n",
    "beta_mle = alpha_mle/fuel_con.select_dtypes(include=np.number).mean()[-4]\n",
    "beta_mle"
   ]
  },
  {
   "cell_type": "code",
   "execution_count": 332,
   "metadata": {},
   "outputs": [
    {
     "data": {
      "text/plain": [
       "8.919125731512679"
      ]
     },
     "execution_count": 332,
     "metadata": {},
     "output_type": "execute_result"
    }
   ],
   "source": [
    "# Fuel Consumption mean for HWY\n",
    "fuel_con_mean = fuel_con.select_dtypes(include=np.number).mean()[-4]\n",
    "fuel_con_mean\n",
    "\n"
   ]
  },
  {
   "cell_type": "code",
   "execution_count": 333,
   "metadata": {},
   "outputs": [
    {
     "data": {
      "text/plain": [
       "5.174550616689223"
      ]
     },
     "execution_count": 333,
     "metadata": {},
     "output_type": "execute_result"
    }
   ],
   "source": [
    "# Fuel Consumption variance for HWY\n",
    "fuel_con_var = fuel_con.select_dtypes(include=np.number).var()[-4]\n",
    "fuel_con_var\n",
    "\n"
   ]
  },
  {
   "cell_type": "code",
   "execution_count": 334,
   "metadata": {},
   "outputs": [
    {
     "data": {
      "text/plain": [
       "15.373470994362348"
      ]
     },
     "execution_count": 334,
     "metadata": {},
     "output_type": "execute_result"
    }
   ],
   "source": [
    "# Recalling the previously calculated alpha_mom\n",
    "alpha_mom = fuel_con_mean ** 2 / fuel_con_var\n",
    "alpha_mom\n"
   ]
  },
  {
   "cell_type": "code",
   "execution_count": 335,
   "metadata": {},
   "outputs": [
    {
     "data": {
      "text/plain": [
       "0.5801634344503878"
      ]
     },
     "execution_count": 335,
     "metadata": {},
     "output_type": "execute_result"
    }
   ],
   "source": [
    "# Recalling the previously calculated beta_mom\n",
    "beta_mom = fuel_con_var / fuel_con_mean\n",
    "beta_mom\n"
   ]
  },
  {
   "cell_type": "code",
   "execution_count": 336,
   "metadata": {},
   "outputs": [
    {
     "data": {
      "text/plain": [
       "[<matplotlib.lines.Line2D at 0x211a70d9b10>]"
      ]
     },
     "execution_count": 336,
     "metadata": {},
     "output_type": "execute_result"
    },
    {
     "data": {
      "image/png": "[encoded data removed]",
      "text/plain": [
       "<Figure size 640x480 with 1 Axes>"
      ]
     },
     "metadata": {},
     "output_type": "display_data"
    }
   ],
   "source": [
    "# Plotting both models and comparing. We are using red color for plotting the gamma distribution model for mom and \n",
    "# blue color for plotting the gamma distribution model for mle. \n",
    "# In other words, The red dashed line represents the model estimated using the method of moments, \n",
    "# while the blue dashed line represents the model estimated using maximum likelihood estimation.\n",
    "\n",
    "from scipy.stats.distributions import gamma\n",
    "fuel_con.HWY.hist(density=True, bins=10)\n",
    "plt.plot(np.linspace(0, 25), gamma.pdf(np.linspace(0, 50), alpha_mom, beta_mom), 'r--')\n",
    "plt.plot(np.linspace(0, 25), gamma.pdf(np.linspace(0, 50), alpha_mle, beta_mle), 'b--')\n"
   ]
  },
  {
   "cell_type": "markdown",
   "metadata": {},
   "source": [
    "As we can see from the graph above, the model estimated using maximum likelihood estimation (blue) is more closely fitting the data when compared with the model estimated using the method of moments (red). This indicates that maximum likelihood estimation is a better model in this case when compared with Method of Moments."
   ]
  },
  {
   "cell_type": "markdown",
   "metadata": {},
   "source": [
    " We are now using the gamma.fit function from the scipy.stats module to estimate the shape and scale parameters of a gamma distribution that best match the data in the HWY column of the fuel_con dataframe using MLE. "
   ]
  },
  {
   "cell_type": "code",
   "execution_count": 337,
   "metadata": {},
   "outputs": [
    {
     "data": {
      "text/plain": [
       "(7.313488931442757, 2.8927250961932542, 0.8240123112986044)"
      ]
     },
     "execution_count": 337,
     "metadata": {},
     "output_type": "execute_result"
    }
   ],
   "source": [
    "from scipy.stats import gamma\n",
    "\n",
    "gamma.fit(fuel_con.HWY)"
   ]
  },
  {
   "cell_type": "markdown",
   "metadata": {},
   "source": [
    "The estimated gamma distribution has a shape parameter (alpha) of 7.31, a scale parameter (beta) of 2.89, and a location parameter (loc) of     0.82. These resultant parameters are different from the ones we obtained because of different numerical optimization algorithms or some other factors."
   ]
  }
 ],
 "metadata": {
  "kernelspec": {
   "display_name": "Python 3 (ipykernel)",
   "language": "python",
   "name": "python3"
  },
  "language_info": {
   "codemirror_mode": {
    "name": "ipython",
    "version": 3
   },
   "file_extension": ".py",
   "mimetype": "text/x-python",
   "name": "python",
   "nbconvert_exporter": "python",
   "pygments_lexer": "ipython3",
   "version": "3.9.12"
  },
  "vscode": {
   "interpreter": {
    "hash": "cdc9f687f99267b3dab817ce7498400fadfecdd87a217ccee1971f3858352790"
   }
  }
 },
 "nbformat": 4,
 "nbformat_minor": 2
}
