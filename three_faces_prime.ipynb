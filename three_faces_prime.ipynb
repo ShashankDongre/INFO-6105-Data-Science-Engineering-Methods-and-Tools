{
 "cells": [
  {
   "cell_type": "code",
   "execution_count": 1,
   "metadata": {},
   "outputs": [
    {
     "name": "stdout",
     "output_type": "stream",
     "text": [
      "73/216\n"
     ]
    }
   ],
   "source": [
    "from fractions import Fraction\n",
    "# a predicate function is a function that returns true for an outcome that is in the event\n",
    "def p(event, space):            # output can either be a set of outcomes or a predicate\n",
    "    if is_predicate(event):\n",
    "        event = such_that(event, space)\n",
    "    return Fraction(len(event & space), len(space))\n",
    "\n",
    "is_predicate = callable\n",
    "\n",
    "def such_that(predicate, collection): \n",
    "    return {e for e in collection if predicate(e)}\n",
    "\n",
    "D = {1,2,3,4,5,6}                   # D is our sample space\n",
    "D3 = {(d1, d2, d3) for d1 in D for d2 in D for d3 in D}     # D3 is our set of all triples\n",
    "\n",
    "def prime_sum(outcome): \n",
    "    return is_prime(sum(outcome))\n",
    "\n",
    "# function to check if a given number is prime or not\n",
    "def is_prime(n):\n",
    "    if (n == 0 or n == 1):\n",
    "        return False\n",
    "    elif n > 2:\n",
    "        for i in range(2,n):\n",
    "            if n % i == 0:\n",
    "                return False\n",
    "        return True\n",
    "is_prime(99)\n",
    "\n",
    "p(prime_sum, D3)    \n",
    "print(p(prime_sum, D3))     #probability that the sum of three faces is prime"
   ]
  }
 ],
 "metadata": {
  "kernelspec": {
   "display_name": "Python 3",
   "language": "python",
   "name": "python3"
  },
  "language_info": {
   "codemirror_mode": {
    "name": "ipython",
    "version": 3
   },
   "file_extension": ".py",
   "mimetype": "text/x-python",
   "name": "python",
   "nbconvert_exporter": "python",
   "pygments_lexer": "ipython3",
   "version": "3.11.1"
  },
  "orig_nbformat": 4,
  "vscode": {
   "interpreter": {
    "hash": "cdc9f687f99267b3dab817ce7498400fadfecdd87a217ccee1971f3858352790"
   }
  }
 },
 "nbformat": 4,
 "nbformat_minor": 2
}
